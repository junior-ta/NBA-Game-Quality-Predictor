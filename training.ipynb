{
 "cells": [
  {
   "metadata": {
    "ExecuteTime": {
     "end_time": "2025-08-08T10:05:50.093388Z",
     "start_time": "2025-08-08T10:05:47.094008Z"
    }
   },
   "cell_type": "code",
   "source": [
    "from sklearn.model_selection import train_test_split\n",
    "import pandas as pd\n",
    "from sklearn.ensemble import RandomForestRegressor\n",
    "from sklearn.linear_model import LinearRegression, Lasso, Ridge\n",
    "from sklearn.preprocessing import StandardScaler\n",
    "from sklearn.svm import SVR\n",
    "from xgboost import XGBRegressor\n",
    "from sklearn.metrics import mean_absolute_error, r2_score, mean_squared_error\n",
    "import torch\n",
    "import torch.nn as nn\n",
    "import torch.optim as optim"
   ],
   "id": "a6f3ded7f97b9442",
   "outputs": [],
   "execution_count": 53
  },
  {
   "metadata": {
    "ExecuteTime": {
     "end_time": "2025-08-08T10:36:54.278726Z",
     "start_time": "2025-08-08T10:36:54.265851Z"
    }
   },
   "cell_type": "code",
   "source": [
    "df= pd.read_csv(\"data prep/datasets/2024_pregame.csv\")\n",
    "\n",
    "# X = df.drop(\"EI\", axis=1)\n",
    "# X=df.drop([\"FGM_x\",\"FGA_x\",\"FG_PCT_x\",\"FG3A_x\",\"FG3_PCT_x\",\"FTM_x\",\"FTA_x\",\"FT_PCT_x\",\"OREB_x\",\"DREB_x\",\"FGM_y\",\"FGA_y\",\"FG_PCT_y\",\"FG3A_y\",\"FG3_PCT_y\",\"FTM_y\",\"FTA_y\",\"FT_PCT_y\",\"OREB_y\",\"DREB_y\",\"BLKA_x\",\"PFD_x\",\"BLKA_y\",\"PFD_y\",\"EI\"], axis=1)\n",
    "\n",
    "# X= df[[\"TIME\",\"RIVALRY\",\"NATIONAL_TV\",\"DAY_Friday\",\"DAY_Monday\",\"DAY_Saturday\",\"DAY_Sunday\",\"DAY_Thursday\",\"DAY_Tuesday\",\"DAY_Wednesday\",\"LEADERS_x\",\"W_PCT_x\",\"REB_x\",\"AST_x\",\"TOV_x\",\"STL_x\",\"BLK_x\",\"PTS_x\",\"PLUS_MINUS_x\",\"LEADERS_y\",\"W_PCT_y\",\"REB_y\",\"AST_y\",\"TOV_y\",\"STL_y\",\"BLK_y\",\"PTS_y\",\"PLUS_MINUS_y\"]]\n",
    "\n",
    "# X= df[[\"TIME\",\"RIVALRY\",\"NATIONAL_TV\",\"DAY_Friday\",\"DAY_Monday\",\"DAY_Saturday\",\"DAY_Sunday\",\"DAY_Thursday\",\"DAY_Tuesday\",\"DAY_Wednesday\",\"LEADERS_x\",\"W_PCT_x\",\"REB_x\",\"AST_x\",\"TOV_x\",\"STL_x\",\"BLK_x\",\"PTS_x\",\"PLUS_MINUS_x\",\"LEADERS_y\",\"W_PCT_y\",\"REB_y\",\"AST_y\",\"TOV_y\",\"STL_y\",\"BLK_y\",\"PTS_y\",\"PLUS_MINUS_y\"]]\n",
    "\n",
    "X= df[[\"TIME\",\"RIVALRY\",\"NATIONAL_TV\",\"DAY_Friday\",\"DAY_Monday\",\"DAY_Saturday\",\"DAY_Sunday\",\"DAY_Thursday\",\"DAY_Tuesday\",\"DAY_Wednesday\",\"LEADERS_x\",\"W_PCT_x\",\"PTS_x\",\"PLUS_MINUS_x\",\"LEADERS_y\",\"W_PCT_y\",\"PTS_y\",\"PLUS_MINUS_y\"]]\n",
    "\n",
    "# X= X.iloc[:,6:]\n",
    "y = df[\"EI\"]\n",
    "\n",
    "X_train, X_test, y_train, y_test = train_test_split(X, y, test_size=0.2, random_state=42)"
   ],
   "id": "af081c8d8f0fcfbf",
   "outputs": [],
   "execution_count": 69
  },
  {
   "metadata": {
    "ExecuteTime": {
     "end_time": "2025-08-08T10:35:11.555862Z",
     "start_time": "2025-08-08T10:35:11.549903Z"
    }
   },
   "cell_type": "code",
   "source": "X.shape",
   "id": "c4ad2b7fecc77a87",
   "outputs": [
    {
     "data": {
      "text/plain": [
       "(1229, 18)"
      ]
     },
     "execution_count": 66,
     "metadata": {},
     "output_type": "execute_result"
    }
   ],
   "execution_count": 66
  },
  {
   "metadata": {
    "ExecuteTime": {
     "end_time": "2025-08-08T08:49:17.401782Z",
     "start_time": "2025-08-08T08:49:17.382641Z"
    }
   },
   "cell_type": "code",
   "source": [
    "model = LinearRegression()\n",
    "model.fit(X_train, y_train)\n",
    "\n",
    "# model = RandomForestRegressor()\n",
    "# model.fit(X_train, y_train)\n",
    "\n",
    "# model = XGBRegressor()\n",
    "# model.fit(X_train, y_train)\n",
    "\n",
    "y_pred = model.predict(X_test)\n",
    "\n",
    "\n",
    "print(\"MAE:\", mean_absolute_error(y_test, y_pred))\n",
    "print(\"RMSE:\", mean_squared_error(y_test, y_pred, squared=False))\n",
    "print(\"R²:\", r2_score(y_test, y_pred))\n"
   ],
   "id": "78278929720bcbf8",
   "outputs": [
    {
     "name": "stdout",
     "output_type": "stream",
     "text": [
      "MAE: 0.12619903189323883\n",
      "RMSE: 0.14711461641131343\n",
      "R²: -0.005550599029890968\n"
     ]
    }
   ],
   "execution_count": 52
  },
  {
   "metadata": {
    "ExecuteTime": {
     "end_time": "2025-08-08T08:48:08.073142Z",
     "start_time": "2025-08-08T08:48:08.052423Z"
    }
   },
   "cell_type": "code",
   "source": [
    "scaler = StandardScaler()\n",
    "X_train_scaled = scaler.fit_transform(X_train)\n",
    "X_test_scaled = scaler.transform(X_test)\n",
    "\n",
    "#Ridge & Lasso Regression\n",
    "ridge = Ridge(alpha=1.0)\n",
    "ridge.fit(X_train_scaled, y_train)\n",
    "y_pred = ridge.predict(X_test_scaled)\n",
    "\n",
    "# lasso = Lasso(alpha=0.1)\n",
    "# lasso.fit(X_train_scaled, y_train)\n",
    "# y_pred = lasso.predict(X_test_scaled)\n",
    "\n",
    "# svr = SVR(kernel=\"rbf\", C=1.0, epsilon=0.1)\n",
    "# svr.fit(X_train_scaled, y_train)\n",
    "# y_pred = svr.predict(X_test_scaled)\n",
    "\n",
    "print(\"MAE:\", mean_absolute_error(y_test, y_pred))\n",
    "print(\"RMSE:\", mean_squared_error(y_test, y_pred, squared=False))\n",
    "print(\"R²:\", r2_score(y_test, y_pred))"
   ],
   "id": "f82117caa43cf0ec",
   "outputs": [
    {
     "name": "stdout",
     "output_type": "stream",
     "text": [
      "MAE: 0.12681835807606517\n",
      "RMSE: 0.1456833853842678\n",
      "R²: 0.013919588419266105\n"
     ]
    }
   ],
   "execution_count": 43
  },
  {
   "metadata": {
    "ExecuteTime": {
     "end_time": "2025-08-08T10:37:16.142519Z",
     "start_time": "2025-08-08T10:36:57.431170Z"
    }
   },
   "cell_type": "code",
   "source": [
    "#DNN\n",
    "\n",
    "class DNN(nn.Module):\n",
    "    def __init__(self):\n",
    "        super().__init__()\n",
    "        self.hidden1 = nn.Linear(18, 128)\n",
    "        self.act1 = nn.ReLU()\n",
    "        self.hidden2 = nn.Linear(128, 256)\n",
    "        self.act2 = nn.ReLU()\n",
    "        self.output = nn.Linear(256, 1)\n",
    "        self.act_output = nn.Sigmoid()\n",
    "\n",
    "    def forward(self, x):\n",
    "        x = self.act1(self.hidden1(x))\n",
    "        x = self.act2(self.hidden2(x))\n",
    "        x = self.act_output(self.output(x))\n",
    "        return x\n",
    "\n",
    "# converting numpy's 64-bit floats to torch's 32-bits floats\n",
    "X_train = torch.tensor(X_train.to_numpy(), dtype=torch.float32)\n",
    "X_test = torch.tensor(X_test.to_numpy(), dtype=torch.float32)\n",
    "y_train = torch.tensor(y_train.to_numpy(), dtype=torch.float32).reshape(-1, 1)\n",
    "y_test = torch.tensor(y_test.to_numpy(), dtype=torch.float32).reshape(-1, 1)\n",
    "\n",
    "model = DNN()\n",
    "loss_fn = nn.BCELoss()\n",
    "optimizer = optim.Adam(model.parameters(), lr=0.001)\n",
    "\n",
    "# training it\n",
    "n_epochs =260\n",
    "batch_size = 16\n",
    "\n",
    "for epoch in range(n_epochs):\n",
    "    for i in range(0, len(X_train), batch_size):\n",
    "        Xbatch = X_train[i:i + batch_size]\n",
    "        y_pred = model(Xbatch)\n",
    "        ybatch = y_train[i:i + batch_size]\n",
    "        loss = loss_fn(y_pred, ybatch)\n",
    "        optimizer.zero_grad()\n",
    "        loss.backward()\n",
    "        optimizer.step()\n",
    "\n",
    "    if epoch % 20 == 0 or epoch == (n_epochs - 1):\n",
    "        print(f'Finished epoch {epoch}, latest loss {loss}')\n",
    "\n",
    "model.eval()\n",
    "with torch.no_grad():\n",
    "    y_pred = model(X_test)\n",
    "\n",
    "print(\"MAE:\", mean_absolute_error(y_test, y_pred))\n",
    "print(\"RMSE:\", mean_squared_error(y_test, y_pred, squared=False))\n",
    "print(\"R²:\", r2_score(y_test, y_pred))\n"
   ],
   "id": "9cb3afc45be055cf",
   "outputs": [
    {
     "name": "stdout",
     "output_type": "stream",
     "text": [
      "Finished epoch 0, latest loss 0.4939560890197754\n",
      "Finished epoch 20, latest loss 0.48265284299850464\n",
      "Finished epoch 40, latest loss 0.4865579307079315\n",
      "Finished epoch 60, latest loss 0.49061769247055054\n",
      "Finished epoch 80, latest loss 0.49233278632164\n",
      "Finished epoch 100, latest loss 0.4982706606388092\n",
      "Finished epoch 120, latest loss 0.4871646463871002\n",
      "Finished epoch 140, latest loss 0.4839947819709778\n",
      "Finished epoch 160, latest loss 0.47952327132225037\n",
      "Finished epoch 180, latest loss 0.47014865279197693\n",
      "Finished epoch 200, latest loss 0.46453025937080383\n",
      "Finished epoch 220, latest loss 0.4565243422985077\n",
      "Finished epoch 240, latest loss 0.44892460107803345\n",
      "Finished epoch 259, latest loss 0.4467806816101074\n",
      "MAE: 0.13397917\n",
      "RMSE: 0.16418393\n",
      "R²: -0.2524304125266792\n"
     ]
    }
   ],
   "execution_count": 70
  },
  {
   "metadata": {},
   "cell_type": "code",
   "outputs": [],
   "execution_count": null,
   "source": "",
   "id": "7684a4fa9d6a812"
  }
 ],
 "metadata": {
  "kernelspec": {
   "display_name": "Python 3",
   "language": "python",
   "name": "python3"
  },
  "language_info": {
   "codemirror_mode": {
    "name": "ipython",
    "version": 2
   },
   "file_extension": ".py",
   "mimetype": "text/x-python",
   "name": "python",
   "nbconvert_exporter": "python",
   "pygments_lexer": "ipython2",
   "version": "2.7.6"
  }
 },
 "nbformat": 4,
 "nbformat_minor": 5
}
