{
 "cells": [
  {
   "metadata": {
    "ExecuteTime": {
     "end_time": "2025-08-06T03:32:38.751569Z",
     "start_time": "2025-08-06T03:32:38.735014Z"
    }
   },
   "cell_type": "code",
   "source": [
    "from sklearn.model_selection import train_test_split\n",
    "import pandas as pd\n",
    "from sklearn.ensemble import RandomForestRegressor\n",
    "from sklearn.linear_model import LinearRegression, Lasso, Ridge\n",
    "from sklearn.preprocessing import StandardScaler\n",
    "from sklearn.svm import SVR\n",
    "from xgboost import XGBRegressor\n",
    "from sklearn.metrics import mean_absolute_error, r2_score, mean_squared_error"
   ],
   "id": "a6f3ded7f97b9442",
   "outputs": [],
   "execution_count": 91
  },
  {
   "metadata": {
    "ExecuteTime": {
     "end_time": "2025-08-06T03:32:39.110581Z",
     "start_time": "2025-08-06T03:32:39.086312Z"
    }
   },
   "cell_type": "code",
   "source": [
    "df= pd.read_csv(\"data prep/datasets/2024_pregame.csv\")\n",
    "\n",
    "# X = df.drop(\"EI\", axis=1)\n",
    "# X=df.drop([\"FGM_x\",\"FGA_x\",\"FG_PCT_x\",\"FG3A_x\",\"FG3_PCT_x\",\"FTM_x\",\"FTA_x\",\"FT_PCT_x\",\"OREB_x\",\"DREB_x\",\"FGM_y\",\"FGA_y\",\"FG_PCT_y\",\"FG3A_y\",\"FG3_PCT_y\",\"FTM_y\",\"FTA_y\",\"FT_PCT_y\",\"OREB_y\",\"DREB_y\",\"BLKA_x\",\"PFD_x\",\"BLKA_y\",\"PFD_y\",\"EI\"], axis=1)\n",
    "\n",
    "# X= df[[\"TIME\",\"RIVALRY\",\"NATIONAL_TV\",\"DAY_Friday\",\"DAY_Monday\",\"DAY_Saturday\",\"DAY_Sunday\",\"DAY_Thursday\",\"DAY_Tuesday\",\"DAY_Wednesday\",\"LEADERS_x\",\"W_PCT_x\",\"REB_x\",\"AST_x\",\"TOV_x\",\"STL_x\",\"BLK_x\",\"PTS_x\",\"PLUS_MINUS_x\",\"LEADERS_y\",\"W_PCT_y\",\"REB_y\",\"AST_y\",\"TOV_y\",\"STL_y\",\"BLK_y\",\"PTS_y\",\"PLUS_MINUS_y\"]]\n",
    "\n",
    "# X= df[[\"TIME\",\"RIVALRY\",\"NATIONAL_TV\",\"DAY_Friday\",\"DAY_Monday\",\"DAY_Saturday\",\"DAY_Sunday\",\"DAY_Thursday\",\"DAY_Tuesday\",\"DAY_Wednesday\",\"LEADERS_x\",\"W_PCT_x\",\"REB_x\",\"AST_x\",\"TOV_x\",\"STL_x\",\"BLK_x\",\"PTS_x\",\"PLUS_MINUS_x\",\"LEADERS_y\",\"W_PCT_y\",\"REB_y\",\"AST_y\",\"TOV_y\",\"STL_y\",\"BLK_y\",\"PTS_y\",\"PLUS_MINUS_y\"]]\n",
    "\n",
    "X= df[[\"TIME\",\"RIVALRY\",\"NATIONAL_TV\",\"DAY_Friday\",\"DAY_Monday\",\"DAY_Saturday\",\"DAY_Sunday\",\"DAY_Thursday\",\"DAY_Tuesday\",\"DAY_Wednesday\",\"LEADERS_x\",\"W_PCT_x\",\"PTS_x\",\"PLUS_MINUS_x\",\"LEADERS_y\",\"W_PCT_y\",\"PTS_y\",\"PLUS_MINUS_y\"]]\n",
    "\n",
    "# X= X.iloc[:,6:]\n",
    "y = df[\"EI\"]\n",
    "\n",
    "X_train, X_test, y_train, y_test = train_test_split(X, y, test_size=0.1, random_state=42)"
   ],
   "id": "af081c8d8f0fcfbf",
   "outputs": [],
   "execution_count": 92
  },
  {
   "metadata": {
    "ExecuteTime": {
     "end_time": "2025-08-06T03:32:39.627084Z",
     "start_time": "2025-08-06T03:32:39.616295Z"
    }
   },
   "cell_type": "code",
   "source": [
    "model = LinearRegression()\n",
    "model.fit(X_train, y_train)\n",
    "\n",
    "# model = RandomForestRegressor()\n",
    "# model.fit(X_train, y_train)\n",
    "\n",
    "# model = XGBRegressor()\n",
    "# model.fit(X_train, y_train)\n",
    "\n",
    "y_pred = model.predict(X_test)\n",
    "\n",
    "\n",
    "print(\"MAE:\", mean_absolute_error(y_test, y_pred))\n",
    "print(\"RMSE:\", mean_squared_error(y_test, y_pred, squared=False))\n",
    "print(\"R²:\", r2_score(y_test, y_pred))\n"
   ],
   "id": "78278929720bcbf8",
   "outputs": [
    {
     "name": "stdout",
     "output_type": "stream",
     "text": [
      "MAE: 0.11586541098560049\n",
      "RMSE: 0.13100124815650302\n",
      "R²: 0.0018391546336248288\n"
     ]
    }
   ],
   "execution_count": 93
  },
  {
   "metadata": {
    "ExecuteTime": {
     "end_time": "2025-08-06T03:22:04.253486Z",
     "start_time": "2025-08-06T03:22:04.100455Z"
    }
   },
   "cell_type": "code",
   "source": [
    "scaler = StandardScaler()\n",
    "X_train_scaled = scaler.fit_transform(X_train)\n",
    "X_test_scaled = scaler.transform(X_test)\n",
    "\n",
    "#Ridge & Lasso Regression\n",
    "ridge = Ridge(alpha=1.0)\n",
    "ridge.fit(X_train_scaled, y_train)\n",
    "ridge_preds = ridge.predict(X_test_scaled)\n",
    "\n",
    "lasso = Lasso(alpha=0.1)\n",
    "lasso.fit(X_train_scaled, y_train)\n",
    "lasso_preds = lasso.predict(X_test_scaled)\n",
    "\n",
    "svr = SVR(kernel=\"rbf\", C=1.0, epsilon=0.1)\n",
    "svr.fit(X_train_scaled, y_train)\n",
    "svr_preds = svr.predict(X_test_scaled)\n",
    "\n",
    "print(\"MAE:\", mean_absolute_error(y_test, y_pred))\n",
    "print(\"RMSE:\", mean_squared_error(y_test, y_pred, squared=False))\n",
    "print(\"R²:\", r2_score(y_test, y_pred))"
   ],
   "id": "f82117caa43cf0ec",
   "outputs": [
    {
     "ename": "NameError",
     "evalue": "name 'StandardScaler' is not defined",
     "output_type": "error",
     "traceback": [
      "\u001B[1;31m---------------------------------------------------------------------------\u001B[0m",
      "\u001B[1;31mNameError\u001B[0m                                 Traceback (most recent call last)",
      "Cell \u001B[1;32mIn[88], line 1\u001B[0m\n\u001B[1;32m----> 1\u001B[0m scaler \u001B[38;5;241m=\u001B[39m StandardScaler()\n\u001B[0;32m      2\u001B[0m X_train_scaled \u001B[38;5;241m=\u001B[39m scaler\u001B[38;5;241m.\u001B[39mfit_transform(X_train)\n\u001B[0;32m      3\u001B[0m X_test_scaled \u001B[38;5;241m=\u001B[39m scaler\u001B[38;5;241m.\u001B[39mtransform(X_test)\n",
      "\u001B[1;31mNameError\u001B[0m: name 'StandardScaler' is not defined"
     ]
    }
   ],
   "execution_count": 88
  },
  {
   "metadata": {},
   "cell_type": "code",
   "outputs": [],
   "execution_count": null,
   "source": "",
   "id": "b369074a00cfceb7"
  }
 ],
 "metadata": {
  "kernelspec": {
   "display_name": "Python 3",
   "language": "python",
   "name": "python3"
  },
  "language_info": {
   "codemirror_mode": {
    "name": "ipython",
    "version": 2
   },
   "file_extension": ".py",
   "mimetype": "text/x-python",
   "name": "python",
   "nbconvert_exporter": "python",
   "pygments_lexer": "ipython2",
   "version": "2.7.6"
  }
 },
 "nbformat": 4,
 "nbformat_minor": 5
}
